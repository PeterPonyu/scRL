


import scanpy as sc
sc.set_figure_params(dpi=150,fontsize=14,figsize=(5,5))

import warnings
warnings.filterwarnings('ignore')


adata = sc.read_h5ad('F5_AML.h5ad')





sc.pl.umap(adata, color='leiden',s=25,legend_loc=None, frameon=False,title='')


sc.pl.umap(adata, color='leiden', groups=['5'],title='',s=25,frameon=False,legend_loc=None,show=False)


sc.pl.umap(adata, color='leiden', groups=['8'],title='',s=25,frameon=False,legend_loc=None,show=False)


sc.pl.umap(adata, color='leiden', groups=['10'],title='',s=25,frameon=False,legend_loc=None,show=False)


sc.pl.umap(adata, color='leiden', groups=['6','7','11'],title='',s=25,frameon=False,legend_loc=None,show=False)


lut = dict(zip(adata.obs['leiden'].cat.categories, adata.uns['leiden_colors']))





X = adata.obsm['X_umap']
X_pca = adata.obsm['X_pca']
clusters = adata.obs['leiden']
cluster_colors = adata.uns['leiden_colors']


import scRL


gres = scRL.grids_from_embedding(X, j=8)
scRL.project_cluster(gres, clusters, cluster_colors)
scRL.align_pseudotime(gres, '3')
scRL.project_back(gres, 'pseudotime')


adata.obs['time'] = gres.embedding['pseudotime']


sc.pl.umap(adata, color='time',title='',s=25,frameon=False,show=False)


del adata.uns['log1p']


adata.obs['branch'] = 'Trunk'
adata.obs['branch'][adata.obs['leiden'].isin(['5'])] = 'Bra1'
adata.obs['branch'][adata.obs['leiden'].isin(['8'])] = 'Bra2'
adata.obs['branch'][adata.obs['leiden'].isin(['10'])] = 'Bra3'
adata.obs['branch'][adata.obs['leiden'].isin(['6','7','9','11'])] = 'Bra4'


sc.tl.rank_genes_groups(adata, groupby='branch', pts=True)


rnk1 = sc.get.rank_genes_groups_df(adata, group='Bra1').sort_values('logfoldchanges', ascending=False)

rnk1['diff'] = rnk1['pct_nz_group'] - rnk1['pct_nz_reference']

gs1 = rnk1[(rnk1['pct_nz_group'] > .25)&(rnk1['pct_nz_reference']<.25)&(rnk1['diff']>.25)].head(10)['names'].tolist()



rnk2 = sc.get.rank_genes_groups_df(adata, group='Bra2').sort_values('logfoldchanges', ascending=False)

rnk2['diff'] = rnk2['pct_nz_group'] - rnk2['pct_nz_reference']

gs2 = rnk2[(rnk2['pct_nz_group'] > .25)&(rnk2['pct_nz_reference']<.25)&(rnk2['diff']>.25)].head(10)['names'].tolist()



rnk3 = sc.get.rank_genes_groups_df(adata, group='Bra3').sort_values('logfoldchanges', ascending=False)

rnk3['diff'] = rnk3['pct_nz_group'] - rnk3['pct_nz_reference']

gs3 = rnk3[(rnk3['pct_nz_group'] > .25)&(rnk3['pct_nz_reference']<.25)&(rnk3['diff']>.25)].head(10)['names'].tolist()


rnk4 = sc.get.rank_genes_groups_df(adata, group='Bra4').sort_values('logfoldchanges', ascending=False)

rnk4['diff'] = rnk4['pct_nz_group'] - rnk4['pct_nz_reference']

gs4 = rnk4[(rnk4['pct_nz_group'] > .25)&(rnk4['pct_nz_reference']<.25)&(rnk4['diff']>.25)].head(10)['names'].tolist()


axs = sc.pl.dotplot(adata, var_names=gs1+gs2+gs3+gs4, groupby='branch',cmap='rainbow', standard_scale='var',lw=0, figsize=(5,5),show=False)
axs['mainplot_ax'].tick_params(labelbottom=False,bottom=False,left=False,labelleft=False)


exp = adata[:,list(set(gs1+gs2+gs3+gs4))].to_df()


scRL.project_expression(gres, exp)





scRL.gene_rewards(gres, ['1','2','3','4'], gs1)


t_gs1 = scRL.trainer('ActorCritic', gres, reward_type='gene', X_latent=X_pca, num_episodes=1e4, gamma=.95)

r, v = t_gs1.train()


scRL.get_state_value(gres, t_gs1, 'gs1')
scRL.project_back(gres, 'gs1')


adata.obs['gs1'] = gres.embedding['gs1']


sc.pl.umap(adata, cmap='plasma', color='gs1',s=25,title='',frameon=False,show=False)


scRL.gene_rewards(gres, ['1','2','3','4'], gs2)


t_gs2 = scRL.trainer('ActorCritic', gres, reward_type='gene', X_latent=X_pca, num_episodes=1e4, gamma=.95)

r, v = t_gs2.train()


scRL.get_state_value(gres, t_gs2, 'gs2')
scRL.project_back(gres, 'gs2')


adata.obs['gs2'] = gres.embedding['gs2']


sc.pl.umap(adata, cmap='plasma', color='gs2',s=25,title='',frameon=False,show=False)


scRL.gene_rewards(gres, ['1','2','3','4'], gs3)


t_gs3 = scRL.trainer('ActorCritic', gres, reward_type='gene', X_latent=X_pca, num_episodes=1e4, gamma=.95)

r, v = t_gs3.train()


scRL.get_state_value(gres, t_gs3, 'gs3')
scRL.project_back(gres, 'gs3')


adata.obs['gs3'] = gres.embedding['gs3']


sc.pl.umap(adata, cmap='plasma', color='gs3',s=25,title='',frameon=False,show=False)


scRL.gene_rewards(gres, ['1','2','3','4'], gs4)


t_gs4 = scRL.trainer('ActorCritic', gres, reward_type='gene', X_latent=X_pca, num_episodes=1e4, gamma=.95)

r, v = t_gs4.train()


scRL.get_state_value(gres, t_gs4, 'gs4')
scRL.project_back(gres, 'gs4')


adata.obs['gs4'] = gres.embedding['gs4']


sc.pl.umap(adata, cmap='plasma', color='gs4',s=25,title='',frameon=False,show=False)
