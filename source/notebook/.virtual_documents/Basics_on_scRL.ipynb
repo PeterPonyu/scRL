





import scRL
import scanpy as sc
sc.set_figure_params(figsize=(5,5),frameon=False,fontsize=14)

import matplotlib.pyplot as plt
import seaborn as sns

import pandas as pd
import numpy as np

import warnings
warnings.filterwarnings('ignore')





adata = sc.datasets.paul15()
sc.pp.normalize_total(adata,target_sum=1e4)
sc.pp.log1p(adata)
sc.pp.scale(adata,max_value=10)
sc.pp.pca(adata,n_comps=50)
sc.tl.tsne(adata,perplexity=50)
sc.pp.neighbors(adata)
sc.tl.leiden(adata)





sc.pl.tsne(adata, color='leiden',legend_loc='on data',s=150, title='Leiden clusters')








X = adata.obsm['X_tsne']

clusters = adata.obs['leiden']

clusters_colors = adata.uns['leiden_colors']





gres = scRL.grids_from_embedding(X)





scRL.project_cluster(gres, clusters, clusters_colors)





scRL.align_pseudotime(gres, '4')

scRL.project_back(gres,'pseudotime')





g = gres.grids['grids'][gres.grids['mapped_grids']]


b = gres.grids['grids'][gres.grids['mapped_boundary']]


with sns.axes_style('white'):
    plt.scatter(g[:,0], g[:,1], marker='.',s=75,c='lightgrey')
    plt.scatter(b[:,0], b[:,1], marker='.',s=75,c='k')
    ax = plt.gca()
    ax.set_frame_on(False)
    ax.tick_params(labelleft=False, labelbottom=False)
    ax.set_title('Grid embedding and boundaries')


with sns.axes_style('white'):
    plt.scatter(g[:,0], g[:,1], marker='.',s=75,c=gres.grids['mapped_grids_colors'])
    ax = plt.gca()
    ax.set_frame_on(False)
    ax.tick_params(labelleft=False, labelbottom=False)
    ax.set_title('Annotated grid embedding')


adata.obs['scRL_time'] = gres.embedding['pseudotime']


sc.pl.tsne(adata, color='scRL_time', frameon=False,s=150,cmap='viridis',colorbar_loc=None,legend_loc=None,show=False)



sc.pl.tsne(adata, color='Mpo', frameon=False,s=150,cmap='rocket',colorbar_loc=None,legend_loc=None,show=False)



exp = pd.DataFrame(adata[:,['Mpo','Klf1']].X,columns=['Mpo','Klf1'])


scRL.project_expression(gres, exp)


with sns.axes_style('white'):
    plt.scatter(g[:,0], g[:,1], marker='.',s=75, c=gres.grids['gene_exp']['Mpo'])
    ax = plt.gca()
    ax.set_frame_on(False)
    ax.tick_params(labelleft=False, labelbottom=False)
    ax.set_title('Mpo expression on grid embedding')








scRL.lineage_rewards(gres, starts='4', ends=['0','3','5'], mode='Decision')


import matplotlib as mpl





with sns.axes_style('white'):
    plt.scatter(g[:,0], g[:,1], marker='.',s=75, c=gres.qlearning['lineage_Decision_rewards'].sum(axis=1), cmap='RdBu_r', norm=mpl.colors.CenteredNorm())
    ax = plt.gca()
    ax.set_frame_on(False)
    ax.tick_params(labelleft=False, labelbottom=False)
    ax.set_title('Lineage decision reward\non grid embedding')








X_pca = adata.obsm['X_pca']


t_mye = scRL.trainer('ActorCritic', gres, X_latent=X_pca, num_episodes=5e3)

r_l, v_l = t_mye.train()





scRL.get_state_value(gres, t_mye, 'Mye')


scRL.project_back(gres, 'Mye')


adata.obs['Mye'] = gres.embedding['Mye']


sc.pl.tsne(adata, color='Mye',s=150, cmap='plasma', title=' Myeloid lineage decision value')





scRL.get_traj_df(gres, t_mye, key='Mye')


scRL.traj_results(gres, [], 'Mye')
