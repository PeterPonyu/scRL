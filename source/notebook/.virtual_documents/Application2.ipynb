


import scanpy as sc
from anndata import AnnData as ad
import pandas as pd
import numpy as np
import matplotlib.pyplot as plt
import seaborn as sns
import matplotlib as mpl
from matplotlib import ticker
from matplotlib import font_manager
font_manager.fontManager.addfont('../../fonts/Arial Bold Italic.ttf')
font_manager.fontManager.addfont('../../fonts/Arial Bold.ttf')
font_manager.fontManager.addfont('../../fonts/Arial Italic.ttf')
font_manager.fontManager.addfont('../../fonts/Arial.ttf')
plt.rcParams['font.sans-serif'] = ['Arial']

cm = 1/2.54
sc.set_figure_params(dpi=150,figsize=(5,5),fontsize=14,frameon=False)

from scRL.GridCore import grids_from_embedding, project_cluster, align_pseudotime, project_back, project_expression
from scRL.EnvironmentCore import lineage_rewards 
from scRL.Trainer import trainer
from scRL.utils import get_traj, moving_average

import torch
device = torch.device('cuda')


adata = sc.read_h5ad('data/setty_bone_marrow.h5ad')

sc.pp.normalize_total(adata, target_sum=1e4)
sc.pp.log1p(adata)
sc.pp.highly_variable_genes(adata, n_top_genes=2000)
sc.pp.pca(adata, use_highly_variable=True)
sc.pp.neighbors(adata)
sc.tl.umap(adata)
sc.tl.leiden(adata)

sc.pl.umap(adata, color='leiden',legend_loc='on data')


adata.obs['clusters'] = pd.Categorical(adata.obs['clusters']
                                       ,['HSC_1','HSC_2','Precursors','Mega','Ery_1'
                                         ,'Ery_2','Mono_1','Mono_2','DCs','CLP']
                                      )

clusters = adata.obs['clusters']

pal = sorted(sns.color_palette('tab10',n_colors=10),key=lambda x: x[2])

adata.uns['clusters_colors'] = pal

sc.pl.umap(adata, color='clusters', palette=pal)


sc.pl.umap(adata, color='clusters', s=50,show=False,title='',legend_loc=None)
plt.savefig('F1.png',dpi=600,bbox_inches='tight')


hsc = pd.read_table('data/GSE117498_RAW/GSM3305359_HSC.raw_counts.tsv.gz',header=0,index_col=0).iloc[1:,:].T
mpp = pd.read_table('data/GSE117498_RAW/GSM3305360_MPP.raw_counts.tsv.gz',header=0,index_col=0).iloc[1:,:].T
mlp = pd.read_table('data/GSE117498_RAW/GSM3305361_MLP.raw_counts.tsv.gz',header=0,index_col=0).iloc[1:,:].T
prebnk = pd.read_table('data/GSE117498_RAW/GSM3305362_PreBNK.raw_counts.tsv.gz',header=0,index_col=0).iloc[1:,:].T
mep = pd.read_table('data/GSE117498_RAW/GSM3305363_MEP.raw_counts.tsv.gz',header=0,index_col=0).iloc[1:,:].T
cmp = pd.read_table('data/GSE117498_RAW/GSM3305364_CMP.raw_counts.tsv.gz',header=0,index_col=0).iloc[1:,:].T
gmp = pd.read_table('data/GSE117498_RAW/GSM3305365_GMP.raw_counts.tsv.gz',header=0,index_col=0).iloc[1:,:].T


adata1 = ad(hsc).concatenate([ad(mpp),ad(mlp),ad(prebnk),ad(mep),ad(cmp),ad(gmp)], batch_categories=['HSC','MPP','MLP','PreBNK','MEP','CMP','GMP'])

sc.pp.normalize_total(adata1, target_sum=1e4)
sc.pp.log1p(adata1)
sc.pp.highly_variable_genes(adata1)
sc.pp.pca(adata1, use_highly_variable=True)
sc.pp.neighbors(adata1)
sc.tl.leiden(adata1)
sc.tl.umap(adata1)
sc.pl.umap(adata1, color='batch')


pal1 = sorted([mpl.colors.hex2color(c) for c in adata1.uns['batch_colors']],key=lambda x:x[2])

ax = sc.pl.umap(adata1, color='batch', palette=pal1,s=50,title='',frameon=False,legend_loc=None,show=False)
sc.pl.umap(adata1[adata1.obs['batch'].isin(['HSC','MPP'])], color='batch',s=50,title='',frameon=False,legend_loc=None,show=False,ax=ax)
plt.savefig('F2.png',dpi=600, bbox_inches='tight')


def procedure(adata, key, start):
    X = adata.obsm['X_umap']
    X_pca = adata.obsm['X_pca']
    clusters = adata.obs[key]

    gres = grids_from_embedding(X)

    gres = project_cluster(gres, clusters, cluster_colors=adata.uns[f'{key}_colors'])

    gres = align_pseudotime(gres, start)

    gres = project_back(gres, 'pseudotime')

    adata.obs['time'] = gres.embedding['pseudotime']
    return gres


gres = procedure(adata, 'clusters', 'HSC_1')


sc.pl.umap(adata, color='time',s=50,title='',show=False)
plt.savefig('F3.png',dpi=600,bbox_inches='tight')


gres1 = procedure(adata1, 'batch', 'HSC')


sc.pl.umap(adata1, color='time',s=50,title='',show=False)
plt.savefig('F4.png',dpi=600,bbox_inches='tight')








start = 'Run4_195606431320494'
sc.tl.diffmap(adata)
adata.uns['iroot'] = np.where(adata.obs_names == start)[0].item()
sc.tl.dpt(adata)

start1 = adata1.obs_names[np.argmax(adata1.obsm['X_umap'][:,1])]
sc.tl.diffmap(adata1)
adata1.uns['iroot'] = np.argmax(adata1.obsm['X_umap'][:,1])
sc.tl.dpt(adata1)


from wishbone import wb

res = wb.c_wishbone(adata.obsm['X_diffmap'][:, [1,2]],
        s=np.where(adata.obs_names == start)[0]
        )

res1 = wb.c_wishbone(adata1.obsm['X_diffmap'][:, [1,2]],
        s=np.where(adata1.obs_names == start1)[0]
        )

adata.obs['wishbone_pseudotime'] = res['Trajectory']

adata1.obs['wishbone_pseudotime'] = res1['Trajectory']


import scanpy.external as sce


sce.tl.palantir(adata)

pr_res = sce.tl.palantir_results(adata, early_cell=start)


sns.set_style('ticks')


adata.obs['palantir_pseudotime'] = pr_res.pseudotime


sce.tl.palantir(adata1)

pr_res1 = sce.tl.palantir_results(adata1, early_cell=start1)

adata1.obs['palantir_pseudotime'] = pr_res1.pseudotime


adata[:,adata.var['highly_variable']].to_df().T.to_csv('cd34exp.csv')
g = adata[:,adata.var['highly_variable']].var_names
pd.DataFrame({'gene':g,'gene_short_names':g}).to_csv('cd34fdata.csv')
adata.obs.to_csv('cd34pdata.csv')

adata1[:,adata1.var['highly_variable']].to_df().T.to_csv('phenoexp.csv')
g = adata1[:,adata1.var['highly_variable']].var_names
pd.DataFrame({'gene':g,'gene_short_names':g}).to_csv('phenofdata.csv')
adata1.obs.to_csv('phenopdata.csv')


adata.obs['monocle_time'] = pd.read_csv('mpt.csv',header=0,index_col=0).values
adata.obs['monocle3_time'] = pd.read_csv('mpt3.csv',header=0,index_col=0).values

adata1.obs['monocle_time'] = pd.read_csv('../../../phenompt.csv',header=0,index_col=0).values
adata1.obs['monocle3_time'] = pd.read_csv('../../../phenompt3.csv',header=0,index_col=0).values


adata.obs['umap_dis'] = np.linalg.norm(adata.obsm['X_umap'][adata.uns['iroot'],:]-adata.obsm['X_umap'], axis=1)

adata1.obs['umap_dis'] = np.linalg.norm(adata1.obsm['X_umap'][adata1.uns['iroot'],:]-adata1.obsm['X_umap'], axis=1)


for i, t in enumerate(['time','palantir_pseudotime','wishbone_pseudotime','dpt_pseudotime','monocle_time','monocle3_time']):
    adata.obs[t] = times[t]
    sc.pl.umap(adata, color=t,s=50,show=False,colorbar_loc=None,title='')
    plt.savefig(f'F5_{i}.png',dpi=600,bbox_inches='tight')


for i, t in enumerate(['time','palantir_pseudotime','wishbone_pseudotime','dpt_pseudotime','monocle_time','monocle3_time']):
    adata1.obs[t] = times1[t]
    sc.pl.umap(adata1, color=t,s=50,show=False,colorbar_loc=None,title='')
    plt.savefig(f'F6_{i}.png',dpi=600,bbox_inches='tight')


adata.obs[['umap_dis','time','palantir_pseudotime','wishbone_pseudotime','dpt_pseudotime','monocle_time','monocle3_time']].to_csv('cd34_times.csv')


adata1.obs[['umap_dis','time','palantir_pseudotime','wishbone_pseudotime','dpt_pseudotime','monocle_time','monocle3_time']].to_csv('pheno_times.csv')


times = pd.read_csv('cd34_times.csv',header=0,index_col=0)
times1 = pd.read_csv('pheno_times.csv',header=0,index_col=0)








adata.obs[['umap_dis','time','palantir_pseudotime','wishbone_pseudotime','dpt_pseudotime','monocle_time','monocle3_time']].corr()


adata.obs[['umap_dis','time','palantir_pseudotime','wishbone_pseudotime','dpt_pseudotime','monocle_time','monocle3_time']].corr(method='spearman')


adata.obs[['umap_dis','time','palantir_pseudotime','wishbone_pseudotime','dpt_pseudotime','monocle_time','monocle3_time']].corr(method='kendall')


adata1.obs[['umap_dis','time','palantir_pseudotime','wishbone_pseudotime','dpt_pseudotime','monocle_time','monocle3_time']].corr()


adata1.obs[['umap_dis','time','palantir_pseudotime','wishbone_pseudotime','dpt_pseudotime','monocle_time','monocle3_time']].corr(method='spearman')


adata1.obs[['umap_dis','time','palantir_pseudotime','wishbone_pseudotime','dpt_pseudotime','monocle_time','monocle3_time']].corr(method='kendall')


X_pca = adata.obsm['X_pca']
X_pca1 = adata1.obsm['X_pca']


gres = lineage_rewards(gres, ['HSC_1','HSC_2'], ['Ery_1','Ery_2','Mega'], mode='Contribution')


gres1 = lineage_rewards(gres1, ['HSC','MPP'], ['MEP'], mode='Contribution')


t_ery = trainer('ActorCritic', gres, reward_mode='Contribution', X_latent=X_pca, num_episodes=5e3)
t_ery.train()


t_ery1 = trainer('ActorCritic', gres1, reward_mode='Contribution', X_latent=X_pca1, num_episodes=5e3)
t_ery1.train()


gres.grids['Ery'] = t_ery.agent.critic(torch.tensor(t_ery.env.state_space.mean(axis=1),device=device)).detach().cpu().numpy().ravel()
gres = project_back(gres, 'Ery')
adata.obs['Ery'] = gres.embedding['Ery']


gres1.grids['Ery'] = t_ery1.agent.critic(torch.tensor(t_ery1.env.state_space.mean(axis=1),device=device)).detach().cpu().numpy().ravel()
gres1 = project_back(gres1, 'Ery')
adata1.obs['Ery'] = gres1.embedding['Ery']


sc.pl.umap(adata, color='Ery',s=50,title='',cmap='plasma',show=False)
plt.savefig('F7.png',dpi=600,bbox_inches='tight')


sc.pl.umap(adata1, color='Ery',s=50,title='',cmap='plasma',show=False)
plt.savefig('F8.png',dpi=600,bbox_inches='tight')


gres = lineage_rewards(gres, ['HSC_1','HSC_2'], ['Mono_1','Mono_2','DCs'], mode='Contribution')


gres1 = lineage_rewards(gres1, ['HSC','MPP'], ['GMP'], mode='Contribution')


t_mye = trainer('ActorCritic', gres, reward_mode='Contribution', X_latent=X_pca, num_episodes=5e3)
t_mye.train()


t_mye1 = trainer('ActorCritic', gres1, reward_mode='Contribution', X_latent=X_pca1, num_episodes=5e3)
t_mye1.train()


gres.grids['Mye'] = t_mye.agent.critic(torch.tensor(t_mye.env.state_space.mean(axis=1),device=device)).detach().cpu().numpy().ravel()
gres = project_back(gres, 'Mye')
adata.obs['Mye'] = gres.embedding['Mye']


gres1.grids['Mye'] = t_mye1.agent.critic(torch.tensor(t_mye1.env.state_space.mean(axis=1),device=device)).detach().cpu().numpy().ravel()
gres1 = project_back(gres1, 'Mye')
adata1.obs['Mye'] = gres1.embedding['Mye']


sc.pl.umap(adata, color='Mye',s=50,title='',cmap='plasma',show=False)
plt.savefig('F9.png',dpi=600,bbox_inches='tight')


sc.pl.umap(adata1, color='Mye',s=50,title='',cmap='plasma',show=False)
plt.savefig('F10.png',dpi=600,bbox_inches='tight')


FateID = pd.read_csv('FateIDprobs.csv',header=0,index_col=0)


adata.obs['Ery_fateid'] = FateID[['tEry_1','tEry_2','tMega']].mean(axis=1)
adata.obs['Mye_fateid'] = FateID[['tMono_1','tMono_2','tDCs']].mean(axis=1)


FateID1 = pd.read_csv('../../../pheno_FateIDprobs.csv',header=0,index_col=0)


adata1.obs['Ery_fateid'] = FateID1['tMEP'].values
adata1.obs['Mye_fateid'] = FateID1['tGMP'].values


adata1.obs['lin1'] = pr_res1.branch_probs.iloc[:,0]
adata1.obs['lin2'] = pr_res1.branch_probs.iloc[:,1]
adata1.obs['lin3'] = pr_res1.branch_probs.iloc[:,2]
adata1.obs['lin4'] = pr_res1.branch_probs.iloc[:,3]
adata1.obs['lin5'] = pr_res1.branch_probs.iloc[:,4]


adata1.obs['palantir_Ery'] = pr_res1.branch_probs.iloc[:,0]
adata1.obs['palantir_Mye'] = pr_res1.branch_probs.iloc[:,[1,3]].mean(axis=1)



sc.pl.umap(adata1, color=['palantir_Ery','palantir_Mye','Ery_fateid','Mye_fateid'])





for i in range(adata.obsm['palantir_branch_probs'].shape[1]):
    adata.obs[f'palantir_lin{i}'] = adata.obsm['palantir_branch_probs'][:,i]


sc.pl.umap(adata, color=[f'palantir_lin{i}' for i in range(6)])


adata.obs['palantir_Ery'] = adata.obsm['palantir_branch_probs'][:,[1,3]].mean(axis=1)
adata.obs['palantir_Mye'] = adata.obsm['palantir_branch_probs'][:,[0,2,5]].mean(axis=1)


sc.pl.umap(adata, color=['palantir_Ery','Ery_fateid','palantir_Mye','Mye_fateid'])


adata.obs['umap_dis'] = np.linalg.norm(adata.obsm['X_umap'][adata.uns['iroot'],:]-adata.obsm['X_umap'], axis=1)

adata1.obs['umap_dis'] = np.linalg.norm(adata1.obsm['X_umap'][adata1.uns['iroot'],:]-adata1.obsm['X_umap'], axis=1)


adata.obs[['umap_dis','Ery','palantir_Ery','Ery_fateid']].corr()


adata.obs[['umap_dis','Ery','palantir_Ery','Ery_fateid']].corr(method='spearman')


adata.obs[['umap_dis','Ery','palantir_Ery','Ery_fateid']].corr(method='kendall')


adata.obs[['umap_dis','Mye','palantir_Mye','Mye_fateid']].corr()


adata.obs[['umap_dis','Mye','palantir_Mye','Mye_fateid']].corr(method='spearman')


adata.obs[['umap_dis','Mye','palantir_Mye','Mye_fateid']].corr(method='kendall')








adata1.obs[['umap_dis','Ery','palantir_Ery','Ery_fateid']].corr()


adata1.obs[['umap_dis','Ery','palantir_Ery','Ery_fateid']].corr(method='spearman')


adata1.obs[['umap_dis','Ery','palantir_Ery','Ery_fateid']].corr(method='kendall')


adata1.obs[['umap_dis','Mye','palantir_Mye','Mye_fateid']].corr()


adata1.obs[['umap_dis','Mye','palantir_Mye','Mye_fateid']].corr(method='spearman')


adata1.obs[['umap_dis','Mye','palantir_Mye','Mye_fateid']].corr(method='kendall')





gres = lineage_rewards(gres, ['HSC_1','HSC_2'], ['Ery_1','Ery_2','Mega'])
gres1 = lineage_rewards(gres1, ['HSC','MPP'], ['MEP'])


t_ery = trainer('ActorCritic', gres, X_latent=X_pca, num_episodes=5e3, gamma=.9)
t_ery.train()

t_ery1 = trainer('ActorCritic', gres1, X_latent=X_pca1, num_episodes=5e3, gamma=.9)
t_ery1.train()


gres.grids['Ery'] = t_ery.agent.critic(torch.tensor(t_ery.env.state_space.mean(axis=1),device=device)).detach().cpu().numpy().ravel()
gres = project_back(gres, 'Ery')
adata.obs['Ery_decision'] = gres.embedding['Ery']

gres1.grids['Ery'] = t_ery1.agent.critic(torch.tensor(t_ery1.env.state_space.mean(axis=1),device=device)).detach().cpu().numpy().ravel()
gres1 = project_back(gres1, 'Ery')
adata1.obs['Ery_decision'] = gres1.embedding['Ery']


sc.pl.umap(adata, color='Ery_decision',s=50,title='',cmap='plasma',show=False)
plt.savefig('F11.png',dpi=600,bbox_inches='tight')


sc.pl.umap(adata1, color='Ery_decision',s=50,title='',cmap='plasma',show=False)
plt.savefig('F12.png',dpi=600,bbox_inches='tight')


gres = lineage_rewards(gres, ['HSC_1','HSC_2'], ['Mono_1','Mono_2','DCs'])
gres1 = lineage_rewards(gres1, ['HSC','MPP'], ['GMP'])

t_mye = trainer('ActorCritic', gres, X_latent=X_pca, num_episodes=5e3, gamma=.9)
t_mye.train()

t_mye1 = trainer('ActorCritic', gres1, X_latent=X_pca1, num_episodes=5e3, gamma=.9)
t_mye1.train()


gres.grids['Mye'] = t_mye.agent.critic(torch.tensor(t_mye.env.state_space.mean(axis=1),device=device)).detach().cpu().numpy().ravel()
gres = project_back(gres, 'Mye')
adata.obs['Mye_decision'] = gres.embedding['Mye']

gres1.grids['Mye'] = t_mye1.agent.critic(torch.tensor(t_mye1.env.state_space.mean(axis=1),device=device)).detach().cpu().numpy().ravel()
gres1 = project_back(gres1, 'Mye')
adata1.obs['Mye_decision'] = gres1.embedding['Mye']


sc.pl.umap(adata, color='Mye_decision',s=50,title='',cmap='plasma',show=False)
plt.savefig('F13.png',dpi=600,bbox_inches='tight')


sc.pl.umap(adata1, color='Mye_decision',s=50,title='',cmap='plasma',show=False)
plt.savefig('F14.png',dpi=600,bbox_inches='tight')


from sklearn.preprocessing import KBinsDiscretizer, minmax_scale


ery_df = adata.obs.loc[adata.obs['clusters'].isin(['HSC_1','HSC_2','Ery_1','Ery_2','Mega']),['Ery','Ery_decision','time']]

ery_df['time_bins'] = KBinsDiscretizer(20, encode='ordinal', strategy='quantile').fit_transform(ery_df['time'].values.reshape(-1,1))


with sns.axes_style('darkgrid'):
    sns.boxplot(data=ery_df,x='time_bins',y='Ery_decision',palette='viridis',fliersize=0,whis=(10,90))
    sns.stripplot(data=ery_df, x='time_bins', y='Ery_decision',color='k',s=1,edgecolor='w')
    ax = plt.gca()
    ax.tick_params(labelbottom=False)
    ax.set_xlabel('')
    ax.set_ylabel('')
    plt.savefig('F15.png',dpi=600,bbox_inches='tight')


with sns.axes_style('darkgrid'):
    sns.boxplot(data=ery_df,x='time_bins',y='Ery',palette='viridis',fliersize=0,whis=(10,90))
    sns.stripplot(data=ery_df, x='time_bins', y='Ery',color='k',s=1,edgecolor='w')
    ax = plt.gca()
    ax.tick_params(labelbottom=False)
    ax.set_xlabel('')
    ax.set_ylabel('')
    plt.savefig('F16.png',dpi=600,bbox_inches='tight')


mye_df = adata.obs.loc[adata.obs['clusters'].isin(['HSC_1','HSC_2','Mono_1','Mono_2','DCs']),['Mye','Mye_decision','time']]

mye_df['time_bins'] = KBinsDiscretizer(20, encode='ordinal', strategy='quantile').fit_transform(mye_df['time'].values.reshape(-1,1))


with sns.axes_style('darkgrid'):
    sns.boxplot(data=mye_df,x='time_bins',y='Mye_decision',palette='viridis',fliersize=0,whis=(10,90))
    sns.stripplot(data=mye_df, x='time_bins', y='Mye_decision',color='k',s=1,edgecolor='w')
    ax = plt.gca()
    ax.tick_params(labelbottom=False)
    ax.set_xlabel('')
    ax.set_ylabel('')
    plt.savefig('F17.png',dpi=600,bbox_inches='tight')


with sns.axes_style('darkgrid'):
    sns.boxplot(data=mye_df,x='time_bins',y='Mye',palette='viridis',fliersize=0,whis=(10,90))
    sns.stripplot(data=mye_df, x='time_bins', y='Mye',color='k',s=1,edgecolor='w')
    ax = plt.gca()
    ax.tick_params(labelbottom=False)
    ax.set_xlabel('')
    ax.set_ylabel('')
    plt.savefig('F18.png',dpi=600,bbox_inches='tight')


ery_weighted = sum((ery_df['Ery'] / ery_df['Ery'].sum())*ery_df['time'])

eryD_weighted = sum((ery_df['Ery_decision'] / ery_df['Ery_decision'].sum())*ery_df['time'])

with sns.axes_style('darkgrid'):
    fig = plt.figure(figsize=(3,5))
    sns.barplot(x=[0,1],y=[eryD_weighted, ery_weighted],palette='viridis')
    ax = plt.gca()
    ax.set_xticklabels(['Desion','Contribution'])
    plt.savefig('F19.png',dpi=600,bbox_inches='tight')


mye_weighted = sum((mye_df['Mye'] / mye_df['Mye'].sum())*mye_df['time'])

myeD_weighted = sum((mye_df['Mye_decision'] / mye_df['Mye_decision'].sum())*mye_df['time'])

with sns.axes_style('darkgrid'):
    fig = plt.figure(figsize=(3,5))
    sns.barplot(x=[0,1],y=[myeD_weighted, mye_weighted],palette='viridis')
    ax = plt.gca()
    ax.set_xticklabels(['Desion','Contribution'])
    plt.savefig('F20.png',dpi=600,bbox_inches='tight')





ery_df1 = adata1.obs.loc[adata1.obs['batch'].isin(['HSC','MPP','MEP']),['Ery','Ery_decision','time']]

ery_df1['time_bins'] = KBinsDiscretizer(20, encode='ordinal', strategy='quantile').fit_transform(ery_df1['time'].values.reshape(-1,1))


with sns.axes_style('darkgrid'):
    sns.boxplot(data=ery_df1,x='time_bins',y='Ery_decision',palette='viridis',fliersize=0,whis=(10,90))
    sns.stripplot(data=ery_df1, x='time_bins', y='Ery_decision',color='k',s=1,edgecolor='w')
    ax = plt.gca()
    ax.tick_params(labelbottom=False)
    ax.set_xlabel('')
    ax.set_ylabel('')
    plt.savefig('F21.png',dpi=600,bbox_inches='tight')


with sns.axes_style('darkgrid'):
    sns.boxplot(data=ery_df1,x='time_bins',y='Ery',palette='viridis',fliersize=0,whis=(10,90))
    sns.stripplot(data=ery_df1, x='time_bins', y='Ery',color='k',s=1,edgecolor='w')
    ax = plt.gca()
    ax.tick_params(labelbottom=False)
    ax.set_xlabel('')
    ax.set_ylabel('')
    plt.savefig('F22.png',dpi=600,bbox_inches='tight')


ery_weighted1 = sum((ery_df1['Ery'] / ery_df1['Ery'].sum())*ery_df1['time'])

eryD_weighted1 = sum((ery_df1['Ery_decision'] / ery_df1['Ery_decision'].sum())*ery_df1['time'])

with sns.axes_style('darkgrid'):
    fig = plt.figure(figsize=(3,5))
    sns.barplot(x=[0,1],y=[eryD_weighted1, ery_weighted1],palette='viridis')
    ax = plt.gca()
    ax.set_xticklabels(['Desion','Contribution'])
    plt.savefig('F23.png',dpi=600,bbox_inches='tight')


mye_df1 = adata1.obs.loc[adata1.obs['batch'].isin(['HSC','MPP','GMP']),['Mye','Mye_decision','time']]

mye_df1['time_bins'] = KBinsDiscretizer(20, encode='ordinal', strategy='quantile').fit_transform(mye_df1['time'].values.reshape(-1,1))


with sns.axes_style('darkgrid'):
    sns.boxplot(data=mye_df1,x='time_bins',y='Mye_decision',palette='viridis',fliersize=0,whis=(10,90))
    sns.stripplot(data=mye_df1, x='time_bins', y='Mye_decision',color='k',s=1,edgecolor='w')
    ax = plt.gca()
    ax.tick_params(labelbottom=False)
    ax.set_xlabel('')
    ax.set_ylabel('')
    plt.savefig('F24.png',dpi=600,bbox_inches='tight')


with sns.axes_style('darkgrid'):
    sns.boxplot(data=mye_df1,x='time_bins',y='Mye',palette='viridis',fliersize=0,whis=(10,90))
    sns.stripplot(data=mye_df1, x='time_bins', y='Mye',color='k',s=1,edgecolor='w')
    ax = plt.gca()
    ax.tick_params(labelbottom=False)
    ax.set_xlabel('')
    ax.set_ylabel('')
    plt.savefig('F25.png',dpi=600,bbox_inches='tight')


mye_weighted1 = sum((mye_df1['Mye'] / mye_df1['Mye'].sum())*mye_df1['time'])

myeD_weighted1 = sum((mye_df1['Mye_decision'] / mye_df1['Mye_decision'].sum())*mye_df1['time'])

with sns.axes_style('darkgrid'):
    fig = plt.figure(figsize=(3,5))
    sns.barplot(x=[0,1],y=[myeD_weighted1, mye_weighted1],palette='viridis')
    ax = plt.gca()
    ax.set_xticklabels(['Desion','Contribution'])
    plt.savefig('F26.png',dpi=600,bbox_inches='tight')


adata.obs.to_csv('0326_cd34.csv')


adata1.obs.to_csv('0326_pheno.csv')



